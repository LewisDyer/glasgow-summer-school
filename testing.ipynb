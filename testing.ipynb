{
 "cells": [
  {
   "cell_type": "markdown",
   "metadata": {},
   "source": [
    "# Unit Testing\n",
    "\n",
    "Unit tests are a simple, methodical way of checking that our functions do what we expect them to.  Testing is not exhaustive – it simply indicates the presence of problems when the tests fail. Python has its own unit testing framework – this includes concepts that we haven’t studied in detail yet, so don’t worry if there are some things that look unfamiliar.\n",
    "\n",
    "To do unit testing in Python, we import the `unittest` library."
   ]
  },
  {
   "cell_type": "code",
   "execution_count": null,
   "metadata": {},
   "outputs": [],
   "source": [
    "import unittest"
   ]
  },
  {
   "cell_type": "markdown",
   "metadata": {},
   "source": [
    "Just for a first example, we are going to look at a temperature scale conversion function, which turns degrees celsius into fahrenheit. "
   ]
  },
  {
   "cell_type": "code",
   "execution_count": null,
   "metadata": {},
   "outputs": [],
   "source": [
    "def c2f(celsius):\n",
    "    '''convert Celsius temp to fahrenheit'''\n",
    "    fahrenheit = (celsius *9/5) +32\n",
    "    return fahrenheit\n"
   ]
  },
  {
   "cell_type": "code",
   "execution_count": null,
   "metadata": {},
   "outputs": [],
   "source": [
    "# Let's try out this function ...\n",
    "print(c2f(100))"
   ]
  },
  {
   "cell_type": "markdown",
   "metadata": {},
   "source": [
    "## Designing test cases\n",
    "\n",
    "OK - so now we have our function, we want to test it. Each *test case* is a single function that will test a single celsius value conversion. The test itself is implemented in the `self.assertEqual` function call. The test cases are grouped together into a *test class*. \n",
    "\n",
    "The skill in testing is choosing appropriate input values to be tested. You want to test corner cases, regular values and extremal values. Which temperatures would you choose?"
   ]
  },
  {
   "cell_type": "code",
   "execution_count": null,
   "metadata": {},
   "outputs": [],
   "source": [
    "class TestMyMethod(unittest.TestCase):\n",
    "\n",
    "    def test_Zero(self):\n",
    "        '''check freezing point'''\n",
    "        self.assertEqual(c2f(0), 32)\n",
    "\n",
    "    def test_EqualTemp(self):\n",
    "        '''intersection point where same temperature gives same value'''\n",
    "        x = -40\n",
    "        self.assertEqual(c2f(x), x)\n",
    "        \n",
    "\n",
    "    def test_Positive(self):\n",
    "        '''for +ve Celsius, fahrenheit is always higher'''\n",
    "        for temp in range(1,100):\n",
    "            self.assertTrue(c2f(temp)>temp)\n"
   ]
  },
  {
   "cell_type": "markdown",
   "metadata": {},
   "source": [
    "Once you have defined a test class, you can run it as shown below. The output will be a report to say how many tests were executed, and whether any tests failed."
   ]
  },
  {
   "cell_type": "code",
   "execution_count": null,
   "metadata": {},
   "outputs": [],
   "source": [
    "unittest.main(argv=['first-arg-is-ignored'], exit=False)"
   ]
  },
  {
   "cell_type": "markdown",
   "metadata": {},
   "source": [
    "## Now it's your turn\n",
    "\n",
    "The hands-on activity today is to write some of your own test cases, ideally for the following functions..."
   ]
  },
  {
   "cell_type": "code",
   "execution_count": null,
   "metadata": {},
   "outputs": [],
   "source": [
    "def countNumberOfZs(x):\n",
    "    '''count the number of z chars in a string'''\n",
    "    count = 0\n",
    "    for i in range(len(x)):\n",
    "        if x[i] == 'z':\n",
    "            count = count+1\n",
    "    return count\n",
    "\n",
    "\n",
    "def amIHappy(happy):\n",
    "    '''tell people how I am feeling'''\n",
    "    print ('I am ')\n",
    "    if not happy:\n",
    "        print('NOT ')\n",
    "    print ('feeling happy today')\n",
    "\n",
    "\n",
    "def isOdd(x):\n",
    "    '''return True if the input integer is odd, false if even'''\n",
    "    return (x%2==1)\n"
   ]
  },
  {
   "cell_type": "code",
   "execution_count": null,
   "metadata": {},
   "outputs": [],
   "source": []
  }
 ],
 "metadata": {
  "kernelspec": {
   "display_name": "Python 3",
   "language": "python",
   "name": "python3"
  },
  "language_info": {
   "codemirror_mode": {
    "name": "ipython",
    "version": 3
   },
   "file_extension": ".py",
   "mimetype": "text/x-python",
   "name": "python",
   "nbconvert_exporter": "python",
   "pygments_lexer": "ipython3",
   "version": "3.7.5"
  }
 },
 "nbformat": 4,
 "nbformat_minor": 4
}
