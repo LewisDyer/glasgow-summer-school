{
 "cells": [
  {
   "cell_type": "markdown",
   "metadata": {},
   "source": [
    "## Looping Exercises"
   ]
  },
  {
   "cell_type": "code",
   "execution_count": null,
   "metadata": {},
   "outputs": [],
   "source": [
    "#range creates a list of numbers. It can take 1,2 or 3 values\n",
    "\n",
    "print(list(range(10)))\n",
    "print(list(range(-5,6)))\n",
    "print(list(range(50,100,10)))"
   ]
  },
  {
   "cell_type": "code",
   "execution_count": null,
   "metadata": {},
   "outputs": [],
   "source": [
    "for i in range(10):\n",
    "    print(i)"
   ]
  },
  {
   "cell_type": "code",
   "execution_count": null,
   "metadata": {},
   "outputs": [],
   "source": [
    "for i in range(1,6):\n",
    "    print(i, end = \" \")\n",
    "print()\n",
    "print(\"Once I caught a fish alive\")\n",
    "for i in range(6,11):\n",
    "    print(i, end = \" \")\n",
    "print()\n",
    "print(\"Then I let him go again!\")"
   ]
  },
  {
   "cell_type": "markdown",
   "metadata": {},
   "source": [
    "Write a program to laonch a rocket counting down from 10, finishing with a \"BLAST OFF!!\""
   ]
  },
  {
   "cell_type": "code",
   "execution_count": null,
   "metadata": {},
   "outputs": [],
   "source": [
    "marks = {\"systems\":[6,10,4,7],\"python\":[8,0,3,1],\"data\":[9,5,11,2]}\n",
    "\n",
    "print(marks[\"data\"][1])"
   ]
  },
  {
   "cell_type": "code",
   "execution_count": null,
   "metadata": {
    "collapsed": true
   },
   "outputs": [],
   "source": [
    "a = [2,3,6,4,1]\n",
    "b = [1,5,6,0]\n",
    "\n",
    "for num in a:\n",
    "    if num in b:\n",
    "        print(num)"
   ]
  },
  {
   "cell_type": "markdown",
   "metadata": {},
   "source": [
    "The program above prints all the elements common to both lists. Write another program that creates a list of all the other elements (unique numbers)"
   ]
  },
  {
   "cell_type": "code",
   "execution_count": null,
   "metadata": {
    "collapsed": true
   },
   "outputs": [],
   "source": []
  },
  {
   "cell_type": "code",
   "execution_count": null,
   "metadata": {
    "collapsed": true
   },
   "outputs": [],
   "source": [
    "#The factorial of 5 is 1*2*3*4*5 = 120\n",
    "factorial = 1\n",
    "for i in range(1,6):\n",
    "    factorial = factorial * i\n",
    "print(factorial)"
   ]
  },
  {
   "cell_type": "markdown",
   "metadata": {},
   "source": [
    "Write a program that calculates the average number of a list and makes a new list of any number above average."
   ]
  },
  {
   "cell_type": "code",
   "execution_count": null,
   "metadata": {
    "collapsed": true
   },
   "outputs": [],
   "source": [
    "nums = [17,22,13,9,42,61,5,54]\n"
   ]
  },
  {
   "cell_type": "markdown",
   "metadata": {},
   "source": [
    "Write out the 3 times tables\n",
    "\n",
    "    1*3 = 3\n",
    "    2*3 = 6\n",
    "    ....\n",
    "    10*3 = 30\n",
    "    "
   ]
  },
  {
   "cell_type": "code",
   "execution_count": null,
   "metadata": {
    "collapsed": true
   },
   "outputs": [],
   "source": []
  },
  {
   "cell_type": "code",
   "execution_count": null,
   "metadata": {},
   "outputs": [],
   "source": [
    "for i in range(5):\n",
    "    for j in range(10):\n",
    "        print(\"*\", end=\"\")\n",
    "    print() # new line"
   ]
  },
  {
   "cell_type": "code",
   "execution_count": null,
   "metadata": {},
   "outputs": [],
   "source": [
    "for i in range(10):\n",
    "    for j in range(i):\n",
    "        print(\"*\", end=' ') \n",
    "    print()"
   ]
  },
  {
   "cell_type": "markdown",
   "metadata": {},
   "source": [
    "Using nested loops print out the following sequence of squares....\n",
    "\n",
    "    1\n",
    "\n",
    "    2 2\n",
    "    2 2\n",
    "    \n",
    "    3 3 3\n",
    "    3 3 3\n",
    "    3 3 3\n",
    "    \n",
    "    etc.....\n",
    "\n"
   ]
  },
  {
   "cell_type": "code",
   "execution_count": null,
   "metadata": {
    "collapsed": true
   },
   "outputs": [],
   "source": []
  },
  {
   "cell_type": "markdown",
   "metadata": {},
   "source": [
    "Choose some of the patterns below and see if you can replicate them using for loops....\n",
    "\n",
    "<img src=\"patterns.png\" width=\"600px\">"
   ]
  },
  {
   "cell_type": "code",
   "execution_count": null,
   "metadata": {
    "collapsed": true
   },
   "outputs": [],
   "source": []
  },
  {
   "cell_type": "code",
   "execution_count": null,
   "metadata": {
    "collapsed": true
   },
   "outputs": [],
   "source": [
    "#Keep asking for a number to be entered until a positive number is entered.\n",
    "\n",
    "number = int(input(\"Enter a positive number: \"))\n",
    "while number < 0:\n",
    "    number = int(input(\"%d is negative, enter another number: \" %(number)))\n",
    "print(\"At last %d is positive.\" %(number))"
   ]
  },
  {
   "cell_type": "markdown",
   "metadata": {},
   "source": [
    "Print out the first odd number entered."
   ]
  },
  {
   "cell_type": "code",
   "execution_count": null,
   "metadata": {
    "collapsed": true
   },
   "outputs": [],
   "source": []
  },
  {
   "cell_type": "markdown",
   "metadata": {},
   "source": [
    "You need to write out a placeholder for a given positive integer (a whole number >0). The placeholder should be a string with one X for each digit of the number. \n",
    "\n",
    "For example, \n",
    "* the number 156 would have placeholder \"XXX\".\n",
    "* the number 8675309 would have placeholder \"XXXXXXX\"\n",
    "* the number 1 would have placeholder \"X\"\n",
    "\n",
    "Write code that prints out the placeholder string for a given number.\n",
    "Store the number you are going to convert in a variable called `number`. Make sure it is an integer, and not a string!\n",
    "\n",
    "**Hints**\n",
    "* You can count the number of digits of an integer by repeatedly diving by 10 until you get a number smaller than 1. \n",
    "* Remember that + can be used to append to a string. `\"sun\"+\"ra\" == \"sunra\"`\n",
    "\n",
    "There are several ways of solving this problem."
   ]
  },
  {
   "cell_type": "code",
   "execution_count": null,
   "metadata": {
    "collapsed": true
   },
   "outputs": [],
   "source": []
  },
  {
   "cell_type": "markdown",
   "metadata": {},
   "source": [
    "Print out the first even number entered that is not between 10-20."
   ]
  },
  {
   "cell_type": "code",
   "execution_count": null,
   "metadata": {
    "collapsed": true
   },
   "outputs": [],
   "source": []
  },
  {
   "cell_type": "markdown",
   "metadata": {},
   "source": [
    "Create a list of 8 unique random numbers between 12 and 24 (inclusive)"
   ]
  },
  {
   "cell_type": "code",
   "execution_count": null,
   "metadata": {
    "collapsed": true
   },
   "outputs": [],
   "source": [
    "## from random import *\n",
    "\n",
    "#list of generated random numbers\n",
    "newNums = []\n",
    "\n",
    "#generates a random number between 12 and 24 (inclusive)\n",
    "unknown = randint(12,24) \n",
    "\n",
    "#write the rest of the program here.....\n",
    "    \n",
    "print(newNums)"
   ]
  }
 ],
 "metadata": {
  "kernelspec": {
   "display_name": "Python 3",
   "language": "python",
   "name": "python3"
  },
  "language_info": {
   "codemirror_mode": {
    "name": "ipython",
    "version": 3
   },
   "file_extension": ".py",
   "mimetype": "text/x-python",
   "name": "python",
   "nbconvert_exporter": "python",
   "pygments_lexer": "ipython3",
   "version": "3.6.1"
  }
 },
 "nbformat": 4,
 "nbformat_minor": 2
}
