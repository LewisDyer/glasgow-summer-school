{
 "cells": [
  {
   "cell_type": "markdown",
   "metadata": {},
   "source": [
    "# Dictionary"
   ]
  },
  {
   "cell_type": "code",
   "execution_count": null,
   "metadata": {
    "collapsed": true
   },
   "outputs": [],
   "source": [
    "results = {\"Ann\":15,\"Bob\":9,\"Calum\":19,\"Dave\":2,\"Eve\":12}"
   ]
  },
  {
   "cell_type": "code",
   "execution_count": null,
   "metadata": {},
   "outputs": [],
   "source": [
    "#prints out all the keys in the dictionary.\n",
    "print(list(results.keys()))"
   ]
  },
  {
   "cell_type": "code",
   "execution_count": null,
   "metadata": {},
   "outputs": [],
   "source": [
    "#prints out all the values in the dictionary\n",
    "print(list(results.values()))"
   ]
  },
  {
   "cell_type": "code",
   "execution_count": null,
   "metadata": {},
   "outputs": [],
   "source": [
    "#print out all the tuples in the form (key,value)\n",
    "print(list(results.items()))"
   ]
  },
  {
   "cell_type": "code",
   "execution_count": null,
   "metadata": {},
   "outputs": [],
   "source": [
    "for key in results:\n",
    "    print(\"%s got %d in the exam\" %(key,results[key]))"
   ]
  },
  {
   "cell_type": "code",
   "execution_count": null,
   "metadata": {
    "collapsed": true
   },
   "outputs": [],
   "source": [
    "#Direct indexing into the dictionary\n",
    "print(results[\"Bob\"])"
   ]
  },
  {
   "cell_type": "code",
   "execution_count": null,
   "metadata": {},
   "outputs": [],
   "source": [
    "results[\"Dave\"] = 17\n",
    "\n",
    "print(results)"
   ]
  },
  {
   "cell_type": "code",
   "execution_count": null,
   "metadata": {},
   "outputs": [],
   "source": [
    "#To create a new entry into the dictionary, \n",
    "#we can simply use the new key as an index into the dictionary and assign it a value.\n",
    "\n",
    "results[\"Fred\"] = 5\n",
    "print(results)"
   ]
  },
  {
   "cell_type": "code",
   "execution_count": null,
   "metadata": {},
   "outputs": [],
   "source": [
    "# If the key does not exist, an error is caused\n",
    "print(results[\"Gail\"])"
   ]
  },
  {
   "cell_type": "code",
   "execution_count": null,
   "metadata": {},
   "outputs": [],
   "source": [
    "total = 0\n",
    "for name in results:\n",
    "    total += results[name]\n",
    "print(\"The average mark was %.1f.\" %(total/len(results)))"
   ]
  },
  {
   "cell_type": "code",
   "execution_count": null,
   "metadata": {
    "collapsed": true
   },
   "outputs": [],
   "source": [
    "# Print out Eve's exam result.\n"
   ]
  },
  {
   "cell_type": "code",
   "execution_count": null,
   "metadata": {
    "collapsed": true
   },
   "outputs": [],
   "source": [
    "# Change Ann's exam result to 16\n"
   ]
  },
  {
   "cell_type": "code",
   "execution_count": null,
   "metadata": {
    "collapsed": true
   },
   "outputs": [],
   "source": [
    "# Add Gail to the dictionary. His exam result was 8.\n"
   ]
  },
  {
   "cell_type": "code",
   "execution_count": null,
   "metadata": {
    "collapsed": true
   },
   "outputs": [],
   "source": [
    "# Update all the exam results to be double their original score.\n"
   ]
  },
  {
   "cell_type": "code",
   "execution_count": null,
   "metadata": {
    "collapsed": true
   },
   "outputs": [],
   "source": [
    "studentInfo = {\"Ann\":{\"matrix\":12543,\"email\":\"ann@gmail.com\",\"exams\":[21,34,5,14]},\n",
    "               \"Bob\":{\"matrix\":13524,\"email\":\"bob@gmail.com\",\"exams\":[32,15,7,22]},\n",
    "              \"Calum\":{\"matrix\":23145,\"email\":\"calum@gmail.com\",\"exams\":[2,39,65,98]},\n",
    "              \"Dave\":{\"matrix\":23562,\"email\":\"dave@gmail.com\",\"exams\":[97,78,92,88]},\n",
    "              \"Eve\":{\"matrix\":55223,\"email\":\"eve@gmail.com\",\"exams\":[9,11,23,16]},\n",
    "              }"
   ]
  },
  {
   "cell_type": "code",
   "execution_count": null,
   "metadata": {
    "collapsed": true
   },
   "outputs": [],
   "source": [
    "# We can print out all the values of the keys.\n",
    "\n",
    "for student in studentInfo:\n",
    "    print(studentInfo[student])"
   ]
  },
  {
   "cell_type": "code",
   "execution_count": null,
   "metadata": {
    "collapsed": true
   },
   "outputs": [],
   "source": [
    "# Now to print just the matrix numbers of the students.....\n",
    "\n",
    "for student in studentInfo:\n",
    "    print(studentInfo[student][\"matrix\"])"
   ]
  },
  {
   "cell_type": "code",
   "execution_count": null,
   "metadata": {
    "collapsed": true
   },
   "outputs": [],
   "source": [
    "#Sometimes if the dictionary is deeply nested it is easier to use variables \n",
    "#rather than writing all the whole dictionary.\n",
    "\n",
    "for student in studentInfo:\n",
    "    s = studentInfo[student]\n",
    "    print(s[\"matrix\"])"
   ]
  },
  {
   "cell_type": "code",
   "execution_count": null,
   "metadata": {
    "collapsed": true
   },
   "outputs": [],
   "source": [
    "# print out all the names and their email addresses\n"
   ]
  },
  {
   "cell_type": "markdown",
   "metadata": {},
   "source": [
    "Insert Fred's information into the dictionary.\n",
    "\n",
    "    exams = [54,45,55,44]\n",
    "    matrix = 22121\n",
    "    email = fred@gmail.com\n",
    "    \n",
    "Does it matter the order the information is entered?"
   ]
  },
  {
   "cell_type": "code",
   "execution_count": null,
   "metadata": {
    "collapsed": true
   },
   "outputs": [],
   "source": []
  },
  {
   "cell_type": "code",
   "execution_count": null,
   "metadata": {
    "collapsed": true
   },
   "outputs": [],
   "source": [
    "# find the average of every student's exam results and store the result in the dictionary.\n",
    "*"
   ]
  },
  {
   "cell_type": "code",
   "execution_count": null,
   "metadata": {
    "collapsed": true
   },
   "outputs": [],
   "source": [
    "# now save the students names in descending order of their average results \n",
    "# (use .sort() - ask a tutor if this is unclear).\n",
    "# print a congratulations message to the top three students telling them their position in the class.\n"
   ]
  },
  {
   "cell_type": "code",
   "execution_count": null,
   "metadata": {
    "collapsed": true
   },
   "outputs": [],
   "source": [
    "# Write a program to read in a sentence and print out how many times each letter occurs"
   ]
  }
 ],
 "metadata": {
  "kernelspec": {
   "display_name": "Python 3",
   "language": "python",
   "name": "python3"
  },
  "language_info": {
   "codemirror_mode": {
    "name": "ipython",
    "version": 3
   },
   "file_extension": ".py",
   "mimetype": "text/x-python",
   "name": "python",
   "nbconvert_exporter": "python",
   "pygments_lexer": "ipython3",
   "version": "3.6.1"
  }
 },
 "nbformat": 4,
 "nbformat_minor": 2
}
