{
 "cells": [
  {
   "cell_type": "markdown",
   "metadata": {},
   "source": [
    "# Looping\n",
    "Repeating actions is what makes computers powerful. Controlling repetition is central to programming. A section of code that repeats is called a **loop**, and the act of repeating is called **iteration** (from the Latin *iterare* \"to do again\").\n",
    "\n",
    "The key thing about looping is that it useful looping does not do *exactly* the same thing again, but repeats an set of instructions (statements) on *different data*."
   ]
  },
  {
   "cell_type": "markdown",
   "metadata": {},
   "source": [
    "## Definite iteration\n",
    "Definite iteration means doing something a fixed number of times. In Python, we use `for` to specify a definite iterations. To iterate over a sequence of numbers, we use `range()` to tell `for` what numbers we want to step through:"
   ]
  },
  {
   "cell_type": "markdown",
   "metadata": {},
   "source": [
    "#### Range\n",
    "When we use `range()` like this, these are known as **counted loops**, because the loop variable counts up. \n",
    "\n",
    "What `range()` really does is generate a sequence of numbers, and `for` then looks at those in turn.\n"
   ]
  },
  {
   "cell_type": "markdown",
   "metadata": {},
   "source": [
    "### For loops to perform a definite number of iterations."
   ]
  },
  {
   "cell_type": "code",
   "execution_count": 1,
   "metadata": {},
   "outputs": [
    {
     "name": "stdout",
     "output_type": "stream",
     "text": [
      "duck\n",
      "duck\n",
      "duck\n",
      "duck\n",
      "duck\n",
      "goose\n"
     ]
    }
   ],
   "source": [
    "# range(5) creates the list [0,1,2,3,4]. \n",
    "#The for loop assigns i the next value of the list after each iteration.\n",
    "#The loop variable i is used to count the number of times the loop is executed.\n",
    "#Its value is never used in the program\n",
    "\n",
    "for i in range(5):\n",
    "    print(\"duck\")\n",
    "print(\"goose\")"
   ]
  },
  {
   "cell_type": "markdown",
   "metadata": {},
   "source": [
    "### For loops where the loop variable is used in the loop body"
   ]
  },
  {
   "cell_type": "markdown",
   "metadata": {},
   "source": [
    "The **loop variable** is the variable *i* here. It changes as the loop runs."
   ]
  },
  {
   "cell_type": "code",
   "execution_count": 2,
   "metadata": {},
   "outputs": [
    {
     "name": "stdout",
     "output_type": "stream",
     "text": [
      "0  *  0  =  0\n",
      "1  *  1  =  1\n",
      "2  *  2  =  4\n",
      "3  *  3  =  9\n",
      "4  *  4  =  16\n",
      "5  *  5  =  25\n",
      "6  *  6  =  36\n",
      "7  *  7  =  49\n",
      "8  *  8  =  64\n",
      "9  *  9  =  81\n",
      "Here is a list of numbers squared\n"
     ]
    }
   ],
   "source": [
    "for i in range(10):\n",
    "    print(i, end=' ')\n",
    "    print(\" * \", end=' ')\n",
    "    print(i, end=' ')\n",
    "    print(\" = \", end=' ')\n",
    "    print(i*i)\n",
    "print(\"Here is a list of numbers squared\")"
   ]
  },
  {
   "cell_type": "markdown",
   "metadata": {},
   "source": [
    "The **loop body** is the all of the code inside of the loop; in this case just the single line:\n",
    "\n",
    "    print(i, end=' ')\n",
    "    print(\" * \", end=' ')\n",
    "    print(i, end=' ')\n",
    "    print(\" = \", end=' ')\n",
    "    print(i*i)\n",
    "    \n",
    "Note: `print(\"Here is a list of numbers squared\")` is not indented, it is not in the body of the loop and is executed only after the loop is complete."
   ]
  },
  {
   "cell_type": "markdown",
   "metadata": {},
   "source": [
    "<img src=\"for_graph.merm.png\" width=\"300px\">"
   ]
  },
  {
   "cell_type": "markdown",
   "metadata": {},
   "source": [
    "Note that Python counts from 0, not 1, so `range(10)` will repeat exactly 10 times, but `i` will range from 0 to 9.\n",
    "\n",
    "We can change the range we iterate over:"
   ]
  },
  {
   "cell_type": "code",
   "execution_count": 3,
   "metadata": {},
   "outputs": [
    {
     "name": "stdout",
     "output_type": "stream",
     "text": [
      "1\n",
      "2\n",
      "3\n",
      "4\n",
      "5\n"
     ]
    }
   ],
   "source": [
    "# 1..10\n",
    "for i in range(1,6):\n",
    "    print(i)"
   ]
  },
  {
   "cell_type": "markdown",
   "metadata": {},
   "source": [
    "It might seem strange that we write `range(1,6)` and stop at 5, but it is consistent with the view that numbers are counted starting at 0. In Python, the start is *inclusive* and the end is *exclusive*."
   ]
  },
  {
   "cell_type": "markdown",
   "metadata": {},
   "source": [
    "Note that **range** could take a computed expression, not just a constant. **BUT**, the value we loop to must stay constant *within that loop*.\n",
    "\n",
    "#### Never write to loop variables\n",
    "Don't try and change a loop variable during the execution of a loop. The behaviour is not what you might expect (although it is consistent):"
   ]
  },
  {
   "cell_type": "code",
   "execution_count": 4,
   "metadata": {},
   "outputs": [
    {
     "name": "stdout",
     "output_type": "stream",
     "text": [
      "0\n",
      "1\n",
      "8\n",
      "3\n",
      "4\n"
     ]
    }
   ],
   "source": [
    "for i in range(5):\n",
    "    if i==2:\n",
    "        i = 8\n",
    "    print(i)"
   ]
  },
  {
   "cell_type": "markdown",
   "metadata": {},
   "source": [
    "### Skipping\n",
    "We can even make the loop variable skip numbers as it goes, using a step. This is given as the third value to `range()`: `range(0,10,2)` means values from 0 to 9, choosing every second number."
   ]
  },
  {
   "cell_type": "code",
   "execution_count": 5,
   "metadata": {},
   "outputs": [
    {
     "name": "stdout",
     "output_type": "stream",
     "text": [
      "0\n",
      "2\n",
      "4\n",
      "6\n",
      "8\n"
     ]
    }
   ],
   "source": [
    "for i in range(0,10,2):\n",
    "    print(i)"
   ]
  },
  {
   "cell_type": "markdown",
   "metadata": {},
   "source": [
    "## Nested loops\n",
    "We can **nest** one loop inside another. \n",
    "\n",
    "To do this, we just put one loop inside the other."
   ]
  },
  {
   "cell_type": "code",
   "execution_count": 6,
   "metadata": {},
   "outputs": [
    {
     "name": "stdout",
     "output_type": "stream",
     "text": [
      "012345\n",
      "012345\n",
      "012345\n"
     ]
    }
   ],
   "source": [
    "for i in range(3):\n",
    "    for j in range(6):\n",
    "        print(j, end=\"\")\n",
    "    print() # new line"
   ]
  },
  {
   "cell_type": "markdown",
   "metadata": {},
   "source": [
    "Notice that the **inner** loop (with `j` here) runs \"fastest\", in that it cycles through each of its values before `i` changes (the `i` loop is called the **outer** loop). This is logically what we asked for. "
   ]
  },
  {
   "cell_type": "markdown",
   "metadata": {},
   "source": [
    "### Loops over data structures\n",
    "One of the most common uses of a sequence data type is to do something to every element in order. For example, to sum all the numbers in a list, or to add an apostrophe to every string in a list.\n",
    "\n",
    "In Python, we use the `for` loop to iterate over lists\n",
    "\n",
    "    for element in my_list:\n",
    "\n",
    "The `for` statement iterates over each element of the list (or other sequence)\n",
    "\n",
    "`element` is known as the loop variable.\n",
    "\n",
    "The first value of `element` is the first element in the list. \n",
    "\n",
    "Note that the `for` statement finish with a colon, and the following code is **indented** (spaced to the right). Every line of code that is indented is within the loop body. \n",
    "\n",
    "The `for` loop repeats the loop body as many times as there are elements in the list. Each time `element` gets the value of the next element of the list.\n",
    "\n",
    "It finishes when there are no more elements in the list. The indentation returns to the previous level before the for loop."
   ]
  },
  {
   "cell_type": "code",
   "execution_count": 7,
   "metadata": {},
   "outputs": [
    {
     "name": "stdout",
     "output_type": "stream",
     "text": [
      "Mary\n",
      "Tom\n",
      "Mark\n",
      "Ann\n",
      "John\n",
      "Fred\n"
     ]
    }
   ],
   "source": [
    "students = [\"Mary\",\"Tom\",\"Mark\",\"Ann\",\"John\",\"Fred\"]\n",
    "\n",
    "for name in students:\n",
    "    print (name)\n"
   ]
  },
  {
   "cell_type": "code",
   "execution_count": 8,
   "metadata": {},
   "outputs": [
    {
     "name": "stdout",
     "output_type": "stream",
     "text": [
      "24\n"
     ]
    }
   ],
   "source": [
    "# add together all of the elements in a list\n",
    "numList = [5,2,3,3,6,5]\n",
    "total = 0\n",
    "for num in numList:\n",
    "    total += num\n",
    "print(total)"
   ]
  },
  {
   "cell_type": "markdown",
   "metadata": {},
   "source": [
    "### Enumerate\n",
    "Sometimes it is useful to both get the elements of a list and their index. This is particularly handy if you want to index two lists at the same time. The handy `enumerate()` function makes that easy:\n",
    "\n",
    "Using a `for ` loop over an enumerate list returns a tuple (index,value)\n",
    "\n",
    "The index can be used to find values at the same position in another list.\n"
   ]
  },
  {
   "cell_type": "code",
   "execution_count": 9,
   "metadata": {},
   "outputs": [
    {
     "name": "stdout",
     "output_type": "stream",
     "text": [
      "There are 31 days in January.\n",
      "There are 28 days in February.\n",
      "There are 31 days in March.\n",
      "There are 30 days in April.\n",
      "There are 31 days in May.\n",
      "There are 30 days in June.\n",
      "There are 31 days in July.\n",
      "There are 31 days in August.\n",
      "There are 30 days in September.\n",
      "There are 31 days in October.\n",
      "There are 30 days in November.\n",
      "There are 31 days in December.\n"
     ]
    }
   ],
   "source": [
    "# enumerating the moths list allows us to find the value and position of each element of the list.\n",
    "# the index can be used to find the respective number of days from the days list.\n",
    "\n",
    "months = [\"January\",\"February\",\"March\",\"April\",\"May\",\"June\",\"July\",\"August\",\"September\",\"October\",\"November\",\"December\"]\n",
    "days = [31,28,31,30,31,30,31,31,30,31,30,31]\n",
    "\n",
    "for i,m in enumerate(months):\n",
    "    print(\"There are %d days in %s.\" %(days[i],m))"
   ]
  },
  {
   "cell_type": "markdown",
   "metadata": {},
   "source": [
    "# Indefinite iteration\n",
    "With indefinite iteration, in contrast, we don't specify in advance how many repetitions to do. This is the most general form of a loop.\n",
    "\n",
    "\n",
    "### While\n",
    "In Python, we use `while` to specify an indefinite loop. The `while` must be followed by a condition (an expression that evaluates to a boolean True or False). If the condition is True, the loop continues. If it is False, the loop is skipped over. Within the condition there must be a loop variable. This loop variable must be given a value before `while` statement and update within the loop body. If the loop variable never changes, the condition can never become false and it becomes an infinite loop."
   ]
  },
  {
   "cell_type": "code",
   "execution_count": 10,
   "metadata": {},
   "outputs": [
    {
     "name": "stdout",
     "output_type": "stream",
     "text": [
      "0\n",
      "1\n",
      "2\n",
      "3\n",
      "4\n"
     ]
    }
   ],
   "source": [
    "i = 0           # i is the loop variable, it must be assigned a value before the while statemet.\n",
    "while i<5:      # while statement with condition. The loop variable is part of the condition.\n",
    "    print(i)    # body of the while loop\n",
    "    i += 1      # loop variable i is updated.\n",
    "    \n",
    "# VERY IMPORTANT -- if you forget this the loop will run forever.after all, how could i ever get to be bigger than 5 \n",
    "# if you don't ever change it!"
   ]
  },
  {
   "cell_type": "code",
   "execution_count": 11,
   "metadata": {},
   "outputs": [
    {
     "name": "stdout",
     "output_type": "stream",
     "text": [
      "0\n",
      "1\n",
      "2\n",
      "3\n",
      "4\n"
     ]
    }
   ],
   "source": [
    "# The while loop above is equivalent to the following for loop.\n",
    "\n",
    "for i in range(5):\n",
    "    print(i)"
   ]
  },
  {
   "cell_type": "markdown",
   "metadata": {},
   "source": [
    "**We would never write a loop as a while loop if it could be written neatly as a for loop.**"
   ]
  },
  {
   "cell_type": "markdown",
   "metadata": {},
   "source": [
    "<img src=\"while_graph.merm.png\" width=\"300px\">"
   ]
  },
  {
   "cell_type": "markdown",
   "metadata": {},
   "source": [
    "Whereas every `for` loop can be written as a `while` loop, a `for` loop can only be used if it is known in advance how many iterations will be performed. If the number of iterations is unknown a `while` loop is used.\n",
    "\n",
    "For example, we might want to count how many positive numbers are entered. As soon as a negative number is entered we stop."
   ]
  },
  {
   "cell_type": "code",
   "execution_count": 12,
   "metadata": {},
   "outputs": [
    {
     "name": "stdout",
     "output_type": "stream",
     "text": [
      "Enter a number: 3\n",
      "Enter another number: 5\n",
      "Enter another number: 4\n",
      "Enter another number: 4\n",
      "Enter another number: 3\n",
      "Enter another number: -6\n",
      "The number of the positive numbers entered is 5\n"
     ]
    }
   ],
   "source": [
    "#Read in a sequence of numbers until a negative number is entered.\n",
    "#Find the total of all the positive numbers entered.\n",
    "\n",
    "count = 0\n",
    "number = int(input(\"Enter a number: \"))\n",
    "while number >= 0:\n",
    "    count += 1\n",
    "    number = int(input(\"Enter another number: \"))\n",
    "print(\"The number of the positive numbers entered is\", count)"
   ]
  },
  {
   "cell_type": "markdown",
   "metadata": {},
   "source": [
    "### Multiple conditions.\n",
    "`while` loops can have multiple conditions, as long as the the result is a boolean expression."
   ]
  },
  {
   "cell_type": "code",
   "execution_count": 13,
   "metadata": {},
   "outputs": [
    {
     "name": "stdout",
     "output_type": "stream",
     "text": [
      "34 was not found at position 6\n"
     ]
    }
   ],
   "source": [
    "# a while loop to check if a value is in a list.\n",
    "# the first condtion stops iterating once the value is found.\n",
    "# the second condtion stops when we get to the end of the list (the value was not in the list)\n",
    "\n",
    "numbers = [54,6,12,87,92,34,89,3]\n",
    "find = 34\n",
    "\n",
    "i = 0  #loop variable, index into the list.\n",
    "while i < len(numbers) and numbers[i] != find : # important check that the end of list hasn't been reached first.\n",
    "    i += 1                                      # otherwise there will be an error trying to access numbers[i]\n",
    "\n",
    "if i == len(numbers):\n",
    "    print(\"%d was not found\" %(find))\n",
    "else:\n",
    "    print(\"%d was not found at position %d\" %(find,i+1))"
   ]
  },
  {
   "cell_type": "markdown",
   "metadata": {},
   "source": [
    "#### Random Numbers\n",
    "Use randint() to produce a random number between 1 and 100. Remember to import the library random to use randint(), that is what the first line is doing."
   ]
  },
  {
   "cell_type": "code",
   "execution_count": 14,
   "metadata": {},
   "outputs": [
    {
     "name": "stdout",
     "output_type": "stream",
     "text": [
      "70\n"
     ]
    }
   ],
   "source": [
    "from random import *\n",
    "\n",
    "#generates a random number between 1 and 100 (inclusive)\n",
    "unknown = randint(1,100) \n",
    "    \n",
    "print(unknown)"
   ]
  }
 ],
 "metadata": {
  "kernelspec": {
   "display_name": "Python 3",
   "language": "python",
   "name": "python3"
  },
  "language_info": {
   "codemirror_mode": {
    "name": "ipython",
    "version": 3
   },
   "file_extension": ".py",
   "mimetype": "text/x-python",
   "name": "python",
   "nbconvert_exporter": "python",
   "pygments_lexer": "ipython3",
   "version": "3.7.5"
  }
 },
 "nbformat": 4,
 "nbformat_minor": 2
}
