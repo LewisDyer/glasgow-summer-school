{
 "cells": [
  {
   "cell_type": "markdown",
   "metadata": {},
   "source": [
    "## Functions Exercises"
   ]
  },
  {
   "cell_type": "code",
   "execution_count": null,
   "metadata": {
    "collapsed": true
   },
   "outputs": [],
   "source": []
  },
  {
   "cell_type": "markdown",
   "metadata": {},
   "source": [
    "Using the functions provided finish the program to print out the following timetable....\n",
    "\n",
    "    Welcome Talk in the Main Hall: 8.45-9.00\n",
    "    Talk in the Main Hall: 45 mins\n",
    "    Coffee served in the Lobby: 15 mins\n",
    "    Talk in the Main Hall: 45 mins\n",
    "    Coffee served in the Lobby: 15 mins\n",
    "    Talk in the Main Hall: 45 mins\n",
    "    Summary of the Day in the Main Hall: 11.45-12.00"
   ]
  },
  {
   "cell_type": "code",
   "execution_count": 1,
   "metadata": {},
   "outputs": [
    {
     "name": "stdout",
     "output_type": "stream",
     "text": [
      "Welcome Talk in the Main Hall: 8.45-9.00\n",
      "Talk in the Main Hall: 45 mins\n"
     ]
    }
   ],
   "source": [
    "def talk():\n",
    "    print(\"Talk in the Main Hall: 45 mins\")\n",
    "    \n",
    "def coffee():\n",
    "    print(\"Coffee served in the Lobby: 15 mins\")\n",
    "    \n",
    "def welcome():\n",
    "    print(\"Welcome Talk in the Main Hall: 8.45-9.00\")\n",
    "    \n",
    "def goodbye():\n",
    "    print(\"Summary of the Day in the Main Hall: 11.45-12.00\") \n",
    "          \n",
    "welcome()\n",
    "talk()"
   ]
  },
  {
   "cell_type": "code",
   "execution_count": 10,
   "metadata": {},
   "outputs": [
    {
     "name": "stdout",
     "output_type": "stream",
     "text": [
      "60\n",
      "-20\n",
      "hihihihihihihihihihi\n"
     ]
    }
   ],
   "source": [
    "def tenTimes(x):\n",
    "    return x*10\n",
    "\n",
    "six = tenTimes(6)\n",
    "print(six)\n",
    "\n",
    "neg = -2\n",
    "minus  = tenTimes(neg)\n",
    "print(minus)\n",
    "\n",
    "word = tenTimes(\"hi\")\n",
    "print(word)"
   ]
  },
  {
   "cell_type": "code",
   "execution_count": 8,
   "metadata": {},
   "outputs": [
    {
     "name": "stdout",
     "output_type": "stream",
     "text": [
      "Enter a temperature: 0\n",
      "0 celcius = 32.0 fahrenheit.\n"
     ]
    }
   ],
   "source": [
    "# Using the function provide input different temperatures and convert them from Celcius into Fahrenheit\n",
    "\n",
    "def cTof(c\n",
    "    f = (c * (9/5))+32\n",
    "    return f\n",
    "\n",
    "cel = int(input(\"Enter a temperature: \"))\n",
    "fah = cTof(cel)\n",
    "print(cel, \"celcius =\", fah,\"fahrenheit.\")"
   ]
  },
  {
   "cell_type": "code",
   "execution_count": null,
   "metadata": {
    "collapsed": true
   },
   "outputs": [],
   "source": [
    "# Write a function that takes a number and returns the number tripled.\n"
   ]
  },
  {
   "cell_type": "code",
   "execution_count": null,
   "metadata": {
    "collapsed": true
   },
   "outputs": [],
   "source": [
    "# Write a function that takes a sentence and returns how many vowels are in it\n"
   ]
  },
  {
   "cell_type": "code",
   "execution_count": null,
   "metadata": {
    "collapsed": true
   },
   "outputs": [],
   "source": [
    "# Write a function that takes a sentence and a letter and returns how many times the letter is in it.\n"
   ]
  },
  {
   "cell_type": "code",
   "execution_count": null,
   "metadata": {
    "collapsed": true
   },
   "outputs": [],
   "source": [
    "# Write a function that removes punctuation from a sting.\n",
    "\n",
    "# hint: Create an empty string. Iterate over every letter in the given string. \n",
    "# If the letter is not in the punctuation add it to the new string. Return the new string.\n",
    "    \n",
    "\n",
    "punctuation = \"?!',.:;\""
   ]
  },
  {
   "cell_type": "code",
   "execution_count": null,
   "metadata": {
    "collapsed": true
   },
   "outputs": [],
   "source": [
    "# Write a function that takes a list of numbers and returns the biggest number in the list\n"
   ]
  },
  {
   "cell_type": "code",
   "execution_count": null,
   "metadata": {
    "collapsed": true
   },
   "outputs": [],
   "source": [
    "# Write a function that takes a list of numbers and returns the position (index) of the biggest number in the list\n"
   ]
  },
  {
   "cell_type": "code",
   "execution_count": null,
   "metadata": {
    "collapsed": true
   },
   "outputs": [],
   "source": [
    "# Use the function above write a function to sort a list.\n",
    "\n",
    "# Iterate over the indices in the list\n",
    "# Use the function to find the position of the the biggest value in the list\n",
    "# Swap values in current and biggest postions\n",
    "# Move on to the next position, find max from this position to the end\n",
    "# Repeat...\n"
   ]
  }
 ],
 "metadata": {
  "kernelspec": {
   "display_name": "Python 3",
   "language": "python",
   "name": "python3"
  },
  "language_info": {
   "codemirror_mode": {
    "name": "ipython",
    "version": 3
   },
   "file_extension": ".py",
   "mimetype": "text/x-python",
   "name": "python",
   "nbconvert_exporter": "python",
   "pygments_lexer": "ipython3",
   "version": "3.6.1"
  }
 },
 "nbformat": 4,
 "nbformat_minor": 2
}
