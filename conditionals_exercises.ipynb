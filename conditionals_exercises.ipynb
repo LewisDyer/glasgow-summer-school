{
 "cells": [
  {
   "cell_type": "markdown",
   "metadata": {},
   "source": [
    "## Conditionals Exercises"
   ]
  },
  {
   "cell_type": "code",
   "execution_count": 19,
   "metadata": {},
   "outputs": [
    {
     "name": "stdout",
     "output_type": "stream",
     "text": [
      "Enter a number: 12\n",
      "The number you entered is 12\n",
      "The square of this number is 144\n"
     ]
    }
   ],
   "source": [
    "number = int(input(\"Enter a number: \"))\n",
    "\n",
    "print(\"The number you entered is\",number)\n",
    "if number < 10:\n",
    "    print(\"This is a small number\")\n",
    "print(\"The square of this number is\", number * number)"
   ]
  },
  {
   "cell_type": "markdown",
   "metadata": {},
   "source": [
    "Write a program that reads in a name. If the name has more than 5 letters shortened it to 5 letters. Print out a personalised message using the shortened name if necessary."
   ]
  },
  {
   "cell_type": "code",
   "execution_count": null,
   "metadata": {
    "collapsed": true
   },
   "outputs": [],
   "source": []
  },
  {
   "cell_type": "code",
   "execution_count": 15,
   "metadata": {},
   "outputs": [
    {
     "name": "stdout",
     "output_type": "stream",
     "text": [
      "what mark did you get in the exam?40\n",
      "You passed the exams\n"
     ]
    }
   ],
   "source": [
    "exam = int(input(\"what mark did you get in the exam?\"))\n",
    "\n",
    "if exam < 40:\n",
    "    print(\"You failed\", end = \" \")\n",
    "else:\n",
    "    print(\"You passed\", end = \" \")\n",
    "print(\"the exams\")"
   ]
  },
  {
   "cell_type": "markdown",
   "metadata": {
    "collapsed": true
   },
   "source": [
    "Write a program that reads in a number and prints out if it is odd or even. \n",
    "\n",
    "    *hint: num%2 divides num by 2 and returns the remainder*"
   ]
  },
  {
   "cell_type": "code",
   "execution_count": null,
   "metadata": {
    "collapsed": true
   },
   "outputs": [],
   "source": []
  },
  {
   "cell_type": "code",
   "execution_count": null,
   "metadata": {
    "collapsed": true
   },
   "outputs": [],
   "source": [
    "exam = int(input(\"Enter a temperature?\"))\n",
    "\n",
    "print(\"The water turned to \", end = \"\")\n",
    "if temp > 100:\n",
    "    print(\"steam\")\n",
    "elif temp <= 0:\n",
    "    print(\"ice\")\n",
    "else:\n",
    "    print(\"liquid\") "
   ]
  },
  {
   "cell_type": "markdown",
   "metadata": {},
   "source": [
    "Change the program above to input a student's exam result and print out what grade they got (A,B,C,D,fail)."
   ]
  },
  {
   "cell_type": "code",
   "execution_count": null,
   "metadata": {
    "collapsed": true
   },
   "outputs": [],
   "source": []
  },
  {
   "cell_type": "markdown",
   "metadata": {},
   "source": [
    "Write a program that takes in a number and adds the correct suffix. For example...\n",
    "\n",
    "    for 1 add st except 11 add th\n",
    "    for 2 add nd except 12 add th\n",
    "    for 3 add rd except 13 add th\n",
    "    everythig else add th."
   ]
  },
  {
   "cell_type": "code",
   "execution_count": null,
   "metadata": {
    "collapsed": true
   },
   "outputs": [],
   "source": []
  },
  {
   "cell_type": "markdown",
   "metadata": {},
   "source": [
    "Write a program to input a student's name. If the name starts with the letter 'M' and ends with the letter 'a', tell them they will be studying computing. If the name starts with a 'D' or 'T' they will be studing maths. Otherwise there is no course for them."
   ]
  },
  {
   "cell_type": "code",
   "execution_count": null,
   "metadata": {},
   "outputs": [],
   "source": []
  }
 ],
 "metadata": {
  "kernelspec": {
   "display_name": "Python 3",
   "language": "python",
   "name": "python3"
  },
  "language_info": {
   "codemirror_mode": {
    "name": "ipython",
    "version": 3
   },
   "file_extension": ".py",
   "mimetype": "text/x-python",
   "name": "python",
   "nbconvert_exporter": "python",
   "pygments_lexer": "ipython3",
   "version": "3.6.1"
  }
 },
 "nbformat": 4,
 "nbformat_minor": 2
}
