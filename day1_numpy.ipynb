{
 "cells": [
  {
   "cell_type": "markdown",
   "metadata": {},
   "source": [
    "### Day 1: NumPy\n",
    "\n",
    "Today the goal is to introduce some commonly used numpy functions but also develop your ability to read documentation. \n",
    "\n",
    "Useful references: \n",
    "* [Official NumPy reference ](https://numpy.org/doc/1.18/reference/index.html)\n",
    "* [Cheatsheet](https://s3.amazonaws.com/assets.datacamp.com/blog_assets/Numpy_Python_Cheat_Sheet.pdf)\n",
    "\n",
    "#### Why numpy?\n",
    "Good set of array operations. Basis for many Python packages for image processing, games libraries, simulations, machine learning packages, graphics libraries."
   ]
  },
  {
   "cell_type": "code",
   "execution_count": 72,
   "metadata": {},
   "outputs": [],
   "source": [
    "#imports: if you want to use external functions, you need to import them first\n",
    "#conventional way of importing numpy\n",
    "import numpy as np"
   ]
  },
  {
   "cell_type": "markdown",
   "metadata": {},
   "source": [
    "Last week we saw lists. Let's have a quick look at some list operations.Particularly: \n",
    "* Adding elements to an existing list\n",
    "* Storing elements of a different type\n",
    "* Updating the value of an element"
   ]
  },
  {
   "cell_type": "code",
   "execution_count": 73,
   "metadata": {},
   "outputs": [
    {
     "name": "stdout",
     "output_type": "stream",
     "text": [
      "['Chris', 16, 'Edinburgh', ['Ben', 'Tom', 'Alex']]\n"
     ]
    }
   ],
   "source": [
    "#list operations\n",
    "#for example, we can define a list that contains information about a student, called Chris who is 16 and is from Glasgow.\n",
    "#Chris is friends with Ben, Tom, and Alex\n",
    "#We've created a list\n",
    "\n",
    "student1 = [\"Chris\",16,\"Glasgow\",['Ben',\"Tom\",\"Alex\"]]\n",
    "\n",
    "#Lists are mutable. We can update that Chris now lives in Edinburgh\n",
    "student1[2] = \"Edinburgh\"\n",
    "print (student1)"
   ]
  },
  {
   "cell_type": "code",
   "execution_count": 74,
   "metadata": {},
   "outputs": [
    {
     "name": "stdout",
     "output_type": "stream",
     "text": [
      "['Chris', 16, 'Edinburgh', ['Ben', 'Tom', 'Alex', 'Jane']]\n"
     ]
    }
   ],
   "source": [
    "#Since Chris moved to Edinburgh, he made a new friend\n",
    "student1[3].append(\"Jane\")\n",
    "print (student1)"
   ]
  },
  {
   "cell_type": "markdown",
   "metadata": {},
   "source": [
    "#### On ndarrays\n",
    "(n dimensional arrays)\n",
    "\n",
    "Last week we talked about lists, however arrays are quite different from lists:\n",
    "\n",
    "* fixed, predefined size/shape\n",
    "* all elements have the same type (remember in lists we can have items of different types)\n",
    "* they can only hold numbers (typically integers or floating-point)\n",
    "* multidimensional\n",
    "* Cannot extend or resize after creating arrays, so must create a new array and copy over old elements\n",
    "* arrays are mutable: the values can be changed after creation\n",
    "\n",
    "\n",
    "ndarrays can have different dimensions. An array with more than 2 dimensions is usually called a tensor. Tensors are often used to represent images. \n",
    "\n",
    "\n"
   ]
  },
  {
   "cell_type": "code",
   "execution_count": 28,
   "metadata": {},
   "outputs": [
    {
     "name": "stdout",
     "output_type": "stream",
     "text": [
      "[0 1 2 3 4 5]\n",
      "[ 0  1 10  3  4  5]\n"
     ]
    }
   ],
   "source": [
    "#generate some numbers\n",
    "#np.arrange can take up to 3 arguments, np.arange(end)\n",
    "x = np.arange(6)\n",
    "print (x)\n",
    "\n",
    "#update an element of the array\n",
    "x[2] = 10\n",
    "\n",
    "print (x)"
   ]
  },
  {
   "cell_type": "code",
   "execution_count": 32,
   "metadata": {},
   "outputs": [],
   "source": [
    "#Your turn: Using np.arange create an 1D array from 0-30 (inclusive), stepping by 2.\n",
    "\n"
   ]
  },
  {
   "cell_type": "code",
   "execution_count": 29,
   "metadata": {},
   "outputs": [
    {
     "name": "stdout",
     "output_type": "stream",
     "text": [
      "6\n",
      "(2, 3)\n",
      "int64\n"
     ]
    }
   ],
   "source": [
    "#creating an array: we pass lists\n",
    "x = np.array([[1, 2, 3], [4, 5, 6]])\n",
    "\n",
    "print (x.size)\n",
    "print (x.shape)\n",
    "print (x.dtype)"
   ]
  },
  {
   "cell_type": "markdown",
   "metadata": {},
   "source": [
    "#### Blank and random arrays\n",
    "In some situations, it might be useful to create an array with a specific shape and set all elements to a specific value. This can be done in a few ways but essentially all methods below just call np.empty(shape) to create a new array and then filling it with a given value. \n",
    "\n",
    "* np.zeros(shape): initialises all elements to 0\n",
    "* np.ones(shape): inits all elements to 1\n",
    "* np.full(shape, value):  inits all elements to a value\n",
    "\n",
    "\n",
    "Some algorithms work with random initialisations. Luckily, numpy provides a range of functions to allow us to do this.\n",
    "* np.random.randint(a,b,shape): array with uniform random integers between a and b\n",
    "* np.random.uniform(a,b,shape): array with uniform floating point numbers between a and b"
   ]
  },
  {
   "cell_type": "markdown",
   "metadata": {},
   "source": [
    "#### Your turn now!!!\n",
    "Use numpy to create the following: \n",
    "* a 7 x 8 matrix of all ones\n",
    "* a 3 element vector, with all elements equal to np.pi\n",
    "* a 1 x 2 x 5 element array of all ones."
   ]
  },
  {
   "cell_type": "code",
   "execution_count": 42,
   "metadata": {},
   "outputs": [],
   "source": [
    "#Your code goes here"
   ]
  },
  {
   "cell_type": "markdown",
   "metadata": {},
   "source": [
    "#### Slicing and indexing\n",
    "\n",
    "This can be quite similar to lists. Negative indexing is also supported.Let's look at some examples."
   ]
  },
  {
   "cell_type": "code",
   "execution_count": 54,
   "metadata": {},
   "outputs": [
    {
     "name": "stdout",
     "output_type": "stream",
     "text": [
      "(3, 6)\n"
     ]
    }
   ],
   "source": [
    "x = np.array([[4,5,6,10,12,16],[7,8,9,10,3,2],[20,19,18,17,16,15]])\n",
    "print (x.shape)"
   ]
  },
  {
   "cell_type": "code",
   "execution_count": 55,
   "metadata": {},
   "outputs": [
    {
     "data": {
      "text/plain": [
       "15"
      ]
     },
     "execution_count": 55,
     "metadata": {},
     "output_type": "execute_result"
    }
   ],
   "source": [
    "x[-1,-1] #last row, last columns"
   ]
  },
  {
   "cell_type": "code",
   "execution_count": 56,
   "metadata": {},
   "outputs": [
    {
     "data": {
      "text/plain": [
       "6"
      ]
     },
     "execution_count": 56,
     "metadata": {},
     "output_type": "execute_result"
    }
   ],
   "source": [
    "x[0,2]"
   ]
  },
  {
   "cell_type": "code",
   "execution_count": 65,
   "metadata": {},
   "outputs": [
    {
     "data": {
      "text/plain": [
       "array([[ 4,  5,  6, 10],\n",
       "       [ 7,  8,  9, 10],\n",
       "       [20, 19, 18, 17]])"
      ]
     },
     "execution_count": 65,
     "metadata": {},
     "output_type": "execute_result"
    }
   ],
   "source": [
    "x[:,0:4] #all rows, first 4 columns"
   ]
  },
  {
   "cell_type": "markdown",
   "metadata": {},
   "source": [
    "#### Boolean indexing\n",
    "Sometimes we might want to subset based on a condition"
   ]
  },
  {
   "cell_type": "code",
   "execution_count": 41,
   "metadata": {},
   "outputs": [],
   "source": [
    "onezero = np.array([[0,1,0], [1, 1, 1], [1, 1, 1]])\n",
    "subset = onezero[onezero==0]"
   ]
  },
  {
   "cell_type": "code",
   "execution_count": null,
   "metadata": {},
   "outputs": [],
   "source": []
  },
  {
   "cell_type": "markdown",
   "metadata": {},
   "source": [
    "#### Your turn now!!!\n",
    "Using what you've learned so far and the numpy documentation. \n",
    "\n",
    "Create: \n",
    "\n",
    "* an array of evenly spaced numbers between -1 and 1\n",
    "* create two 1D arrays of the same length and stack them (vertically and then horizontally)"
   ]
  },
  {
   "cell_type": "code",
   "execution_count": 64,
   "metadata": {},
   "outputs": [],
   "source": [
    "#Your code here:"
   ]
  },
  {
   "cell_type": "code",
   "execution_count": null,
   "metadata": {},
   "outputs": [],
   "source": []
  }
 ],
 "metadata": {
  "kernelspec": {
   "display_name": "Python 3",
   "language": "python",
   "name": "python3"
  },
  "language_info": {
   "codemirror_mode": {
    "name": "ipython",
    "version": 3
   },
   "file_extension": ".py",
   "mimetype": "text/x-python",
   "name": "python",
   "nbconvert_exporter": "python",
   "pygments_lexer": "ipython3",
   "version": "3.6.8"
  }
 },
 "nbformat": 4,
 "nbformat_minor": 2
}
